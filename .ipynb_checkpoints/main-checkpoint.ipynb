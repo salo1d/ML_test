{
 "cells": [
  {
   "cell_type": "code",
   "execution_count": 2,
   "metadata": {},
   "outputs": [],
   "source": [
    "import pandas as pd\n",
    "import numpy as np\n",
    "import matplotlib.pyplot as plt\n",
    "import seaborn as sb\n",
    "%matplotlib inline"
   ]
  },
  {
   "cell_type": "code",
   "execution_count": 7,
   "metadata": {},
   "outputs": [
    {
     "data": {
      "text/html": [
       "<div>\n",
       "<style scoped>\n",
       "    .dataframe tbody tr th:only-of-type {\n",
       "        vertical-align: middle;\n",
       "    }\n",
       "\n",
       "    .dataframe tbody tr th {\n",
       "        vertical-align: top;\n",
       "    }\n",
       "\n",
       "    .dataframe thead th {\n",
       "        text-align: right;\n",
       "    }\n",
       "</style>\n",
       "<table border=\"1\" class=\"dataframe\">\n",
       "  <thead>\n",
       "    <tr style=\"text-align: right;\">\n",
       "      <th></th>\n",
       "      <th>0</th>\n",
       "      <th>1</th>\n",
       "      <th>2</th>\n",
       "      <th>3</th>\n",
       "      <th>4</th>\n",
       "      <th>5</th>\n",
       "      <th>6</th>\n",
       "      <th>7</th>\n",
       "      <th>8</th>\n",
       "    </tr>\n",
       "  </thead>\n",
       "  <tbody>\n",
       "    <tr>\n",
       "      <th>0</th>\n",
       "      <td>M</td>\n",
       "      <td>3.1110</td>\n",
       "      <td>2.4990</td>\n",
       "      <td>0.8160</td>\n",
       "      <td>5.8446</td>\n",
       "      <td>3.044700</td>\n",
       "      <td>NaN</td>\n",
       "      <td>1.992463</td>\n",
       "      <td>8</td>\n",
       "    </tr>\n",
       "    <tr>\n",
       "      <th>1</th>\n",
       "      <td>M</td>\n",
       "      <td>2.3715</td>\n",
       "      <td>1.8360</td>\n",
       "      <td>0.5355</td>\n",
       "      <td>2.1981</td>\n",
       "      <td>1.222069</td>\n",
       "      <td>0.545700</td>\n",
       "      <td>NaN</td>\n",
       "      <td>9</td>\n",
       "    </tr>\n",
       "    <tr>\n",
       "      <th>2</th>\n",
       "      <td>M</td>\n",
       "      <td>2.4990</td>\n",
       "      <td>2.0145</td>\n",
       "      <td>0.7140</td>\n",
       "      <td>2.7999</td>\n",
       "      <td>1.129650</td>\n",
       "      <td>0.650250</td>\n",
       "      <td>0.765000</td>\n",
       "      <td>11</td>\n",
       "    </tr>\n",
       "    <tr>\n",
       "      <th>3</th>\n",
       "      <td>M</td>\n",
       "      <td>3.2130</td>\n",
       "      <td>2.5245</td>\n",
       "      <td>0.8160</td>\n",
       "      <td>5.5743</td>\n",
       "      <td>2.534700</td>\n",
       "      <td>1.127100</td>\n",
       "      <td>1.606500</td>\n",
       "      <td>12</td>\n",
       "    </tr>\n",
       "    <tr>\n",
       "      <th>4</th>\n",
       "      <td>M</td>\n",
       "      <td>2.9325</td>\n",
       "      <td>2.2185</td>\n",
       "      <td>0.6885</td>\n",
       "      <td>5.0592</td>\n",
       "      <td>2.203200</td>\n",
       "      <td>1.254302</td>\n",
       "      <td>NaN</td>\n",
       "      <td>10</td>\n",
       "    </tr>\n",
       "  </tbody>\n",
       "</table>\n",
       "</div>"
      ],
      "text/plain": [
       "   0       1       2       3       4         5         6         7   8\n",
       "0  M  3.1110  2.4990  0.8160  5.8446  3.044700       NaN  1.992463   8\n",
       "1  M  2.3715  1.8360  0.5355  2.1981  1.222069  0.545700       NaN   9\n",
       "2  M  2.4990  2.0145  0.7140  2.7999  1.129650  0.650250  0.765000  11\n",
       "3  M  3.2130  2.5245  0.8160  5.5743  2.534700  1.127100  1.606500  12\n",
       "4  M  2.9325  2.2185  0.6885  5.0592  2.203200  1.254302       NaN  10"
      ]
     },
     "execution_count": 7,
     "metadata": {},
     "output_type": "execute_result"
    }
   ],
   "source": [
    "df = pd.read_csv('train.csv', header=None)\n",
    "df.head()"
   ]
  },
  {
   "cell_type": "code",
   "execution_count": 9,
   "metadata": {},
   "outputs": [
    {
     "data": {
      "text/plain": [
       "(10579, 9)"
      ]
     },
     "execution_count": 9,
     "metadata": {},
     "output_type": "execute_result"
    }
   ],
   "source": [
    "df.shape"
   ]
  },
  {
   "cell_type": "code",
   "execution_count": 10,
   "metadata": {},
   "outputs": [
    {
     "name": "stdout",
     "output_type": "stream",
     "text": [
      "<class 'pandas.core.frame.DataFrame'>\n",
      "RangeIndex: 10579 entries, 0 to 10578\n",
      "Data columns (total 9 columns):\n",
      "0    10579 non-null object\n",
      "1    10047 non-null float64\n",
      "2    10051 non-null float64\n",
      "3    10044 non-null float64\n",
      "4    10055 non-null float64\n",
      "5    10053 non-null float64\n",
      "6    10073 non-null float64\n",
      "7    10019 non-null float64\n",
      "8    10579 non-null int64\n",
      "dtypes: float64(7), int64(1), object(1)\n",
      "memory usage: 743.9+ KB\n"
     ]
    }
   ],
   "source": [
    "df.info()"
   ]
  },
  {
   "cell_type": "code",
   "execution_count": 17,
   "metadata": {},
   "outputs": [
    {
     "data": {
      "text/html": [
       "<div>\n",
       "<style scoped>\n",
       "    .dataframe tbody tr th:only-of-type {\n",
       "        vertical-align: middle;\n",
       "    }\n",
       "\n",
       "    .dataframe tbody tr th {\n",
       "        vertical-align: top;\n",
       "    }\n",
       "\n",
       "    .dataframe thead th {\n",
       "        text-align: right;\n",
       "    }\n",
       "</style>\n",
       "<table border=\"1\" class=\"dataframe\">\n",
       "  <thead>\n",
       "    <tr style=\"text-align: right;\">\n",
       "      <th></th>\n",
       "      <th>1</th>\n",
       "      <th>2</th>\n",
       "      <th>3</th>\n",
       "      <th>4</th>\n",
       "      <th>5</th>\n",
       "      <th>6</th>\n",
       "      <th>7</th>\n",
       "      <th>8</th>\n",
       "    </tr>\n",
       "  </thead>\n",
       "  <tbody>\n",
       "    <tr>\n",
       "      <th>count</th>\n",
       "      <td>10047.000000</td>\n",
       "      <td>10051.000000</td>\n",
       "      <td>10044.000000</td>\n",
       "      <td>10055.000000</td>\n",
       "      <td>10053.000000</td>\n",
       "      <td>10073.000000</td>\n",
       "      <td>10019.000000</td>\n",
       "      <td>10579.000000</td>\n",
       "    </tr>\n",
       "    <tr>\n",
       "      <th>mean</th>\n",
       "      <td>2.799411</td>\n",
       "      <td>2.191942</td>\n",
       "      <td>0.767054</td>\n",
       "      <td>4.472830</td>\n",
       "      <td>2.005374</td>\n",
       "      <td>1.008515</td>\n",
       "      <td>1.296961</td>\n",
       "      <td>9.701200</td>\n",
       "    </tr>\n",
       "    <tr>\n",
       "      <th>std</th>\n",
       "      <td>0.528414</td>\n",
       "      <td>0.443913</td>\n",
       "      <td>0.235189</td>\n",
       "      <td>2.332749</td>\n",
       "      <td>1.107274</td>\n",
       "      <td>0.544529</td>\n",
       "      <td>0.641090</td>\n",
       "      <td>1.901391</td>\n",
       "    </tr>\n",
       "    <tr>\n",
       "      <th>min</th>\n",
       "      <td>1.045500</td>\n",
       "      <td>0.790500</td>\n",
       "      <td>0.000000</td>\n",
       "      <td>0.216750</td>\n",
       "      <td>0.086700</td>\n",
       "      <td>0.028050</td>\n",
       "      <td>0.079050</td>\n",
       "      <td>7.000000</td>\n",
       "    </tr>\n",
       "    <tr>\n",
       "      <th>25%</th>\n",
       "      <td>2.422500</td>\n",
       "      <td>1.887000</td>\n",
       "      <td>0.637500</td>\n",
       "      <td>2.629050</td>\n",
       "      <td>1.129650</td>\n",
       "      <td>0.586500</td>\n",
       "      <td>0.793050</td>\n",
       "      <td>8.000000</td>\n",
       "    </tr>\n",
       "    <tr>\n",
       "      <th>50%</th>\n",
       "      <td>2.856000</td>\n",
       "      <td>2.244000</td>\n",
       "      <td>0.765000</td>\n",
       "      <td>4.278900</td>\n",
       "      <td>1.881900</td>\n",
       "      <td>0.938400</td>\n",
       "      <td>1.249500</td>\n",
       "      <td>9.000000</td>\n",
       "    </tr>\n",
       "    <tr>\n",
       "      <th>75%</th>\n",
       "      <td>3.187500</td>\n",
       "      <td>2.499000</td>\n",
       "      <td>0.892500</td>\n",
       "      <td>6.002700</td>\n",
       "      <td>2.703000</td>\n",
       "      <td>1.351500</td>\n",
       "      <td>1.708500</td>\n",
       "      <td>11.000000</td>\n",
       "    </tr>\n",
       "    <tr>\n",
       "      <th>max</th>\n",
       "      <td>4.569913</td>\n",
       "      <td>3.776277</td>\n",
       "      <td>6.007583</td>\n",
       "      <td>14.175450</td>\n",
       "      <td>7.588800</td>\n",
       "      <td>3.876000</td>\n",
       "      <td>4.896377</td>\n",
       "      <td>16.000000</td>\n",
       "    </tr>\n",
       "  </tbody>\n",
       "</table>\n",
       "</div>"
      ],
      "text/plain": [
       "                  1             2             3             4             5  \\\n",
       "count  10047.000000  10051.000000  10044.000000  10055.000000  10053.000000   \n",
       "mean       2.799411      2.191942      0.767054      4.472830      2.005374   \n",
       "std        0.528414      0.443913      0.235189      2.332749      1.107274   \n",
       "min        1.045500      0.790500      0.000000      0.216750      0.086700   \n",
       "25%        2.422500      1.887000      0.637500      2.629050      1.129650   \n",
       "50%        2.856000      2.244000      0.765000      4.278900      1.881900   \n",
       "75%        3.187500      2.499000      0.892500      6.002700      2.703000   \n",
       "max        4.569913      3.776277      6.007583     14.175450      7.588800   \n",
       "\n",
       "                  6             7             8  \n",
       "count  10073.000000  10019.000000  10579.000000  \n",
       "mean       1.008515      1.296961      9.701200  \n",
       "std        0.544529      0.641090      1.901391  \n",
       "min        0.028050      0.079050      7.000000  \n",
       "25%        0.586500      0.793050      8.000000  \n",
       "50%        0.938400      1.249500      9.000000  \n",
       "75%        1.351500      1.708500     11.000000  \n",
       "max        3.876000      4.896377     16.000000  "
      ]
     },
     "execution_count": 17,
     "metadata": {},
     "output_type": "execute_result"
    }
   ],
   "source": [
    "df.describe()"
   ]
  },
  {
   "cell_type": "markdown",
   "metadata": {},
   "source": [
    "тут ми побачили, що немає аномальних даних"
   ]
  },
  {
   "cell_type": "code",
   "execution_count": 12,
   "metadata": {},
   "outputs": [
    {
     "data": {
      "text/plain": [
       "<matplotlib.axes._subplots.AxesSubplot at 0x2424de307b8>"
      ]
     },
     "execution_count": 12,
     "metadata": {},
     "output_type": "execute_result"
    },
    {
     "data": {
      "image/png": "[encoded data removed]",
      "text/plain": [
       "<Figure size 432x288 with 1 Axes>"
      ]
     },
     "metadata": {
      "needs_background": "light"
     },
     "output_type": "display_data"
    }
   ],
   "source": [
    "sb.heatmap(df.isnull(),yticklabels=False,cbar=False,cmap='viridis')"
   ]
  },
  {
   "cell_type": "code",
   "execution_count": 16,
   "metadata": {},
   "outputs": [
    {
     "data": {
      "text/plain": [
       "(2767, 9)"
      ]
     },
     "execution_count": 16,
     "metadata": {},
     "output_type": "execute_result"
    }
   ],
   "source": [
    "df[df[0] == 'I'].shape"
   ]
  },
  {
   "cell_type": "code",
   "execution_count": 22,
   "metadata": {},
   "outputs": [
    {
     "data": {
      "text/plain": [
       "(7377, 9)"
      ]
     },
     "execution_count": 22,
     "metadata": {},
     "output_type": "execute_result"
    }
   ],
   "source": [
    "df1 = df.dropna()\n",
    "df1.shape"
   ]
  },
  {
   "cell_type": "markdown",
   "metadata": {},
   "source": [
    "спробував видалити всі нани, але втратилося 30% даних - дуже багато, такий підхід не працює"
   ]
  },
  {
   "cell_type": "code",
   "execution_count": 23,
   "metadata": {},
   "outputs": [],
   "source": [
    "del df1"
   ]
  },
  {
   "cell_type": "code",
   "execution_count": 35,
   "metadata": {},
   "outputs": [],
   "source": [
    "df_m = df[df[0] == 'M']"
   ]
  },
  {
   "cell_type": "code",
   "execution_count": 36,
   "metadata": {},
   "outputs": [],
   "source": [
    "df_f = df[df[0] == 'F']"
   ]
  },
  {
   "cell_type": "code",
   "execution_count": 37,
   "metadata": {},
   "outputs": [],
   "source": [
    "df_i = df[df[0] == 'I']"
   ]
  },
  {
   "cell_type": "code",
   "execution_count": 38,
   "metadata": {},
   "outputs": [],
   "source": [
    "def nan_change_math(df, method='mean'):\n",
    "    for i in df:\n",
    "        if df[i].isnull().any():\n",
    "            if method == 'mean':\n",
    "                x = np.mean(df[i])\n",
    "            elif method == 'mode':\n",
    "                x = stats.mode(df[i])\n",
    "                x = x[0][0]\n",
    "            elif method == 'median':\n",
    "                x = statistics.median(df[i])\n",
    "                if not x > 0:\n",
    "                    x = df[i].iloc[0]\n",
    "            else:\n",
    "                return -1   \n",
    "            index = pd.isnull(df[i]).nonzero()[0]\n",
    "            df = df.replace({i: np.nan}, x)\n",
    "    return df"
   ]
  },
  {
   "cell_type": "code",
   "execution_count": 39,
   "metadata": {},
   "outputs": [],
   "source": [
    "df_m = nan_change_math(df_m)\n",
    "df_f = nan_change_math(df_f)\n",
    "df_i = nan_change_math(df_i)"
   ]
  },
  {
   "cell_type": "code",
   "execution_count": 41,
   "metadata": {},
   "outputs": [
    {
     "data": {
      "text/html": [
       "<div>\n",
       "<style scoped>\n",
       "    .dataframe tbody tr th:only-of-type {\n",
       "        vertical-align: middle;\n",
       "    }\n",
       "\n",
       "    .dataframe tbody tr th {\n",
       "        vertical-align: top;\n",
       "    }\n",
       "\n",
       "    .dataframe thead th {\n",
       "        text-align: right;\n",
       "    }\n",
       "</style>\n",
       "<table border=\"1\" class=\"dataframe\">\n",
       "  <thead>\n",
       "    <tr style=\"text-align: right;\">\n",
       "      <th></th>\n",
       "      <th>0</th>\n",
       "      <th>1</th>\n",
       "      <th>2</th>\n",
       "      <th>3</th>\n",
       "      <th>4</th>\n",
       "      <th>5</th>\n",
       "      <th>6</th>\n",
       "      <th>7</th>\n",
       "      <th>8</th>\n",
       "    </tr>\n",
       "  </thead>\n",
       "  <tbody>\n",
       "    <tr>\n",
       "      <th>0</th>\n",
       "      <td>M</td>\n",
       "      <td>3.1110</td>\n",
       "      <td>2.4990</td>\n",
       "      <td>0.8160</td>\n",
       "      <td>5.8446</td>\n",
       "      <td>3.044700</td>\n",
       "      <td>1.140839</td>\n",
       "      <td>1.992463</td>\n",
       "      <td>8</td>\n",
       "    </tr>\n",
       "    <tr>\n",
       "      <th>1</th>\n",
       "      <td>M</td>\n",
       "      <td>2.3715</td>\n",
       "      <td>1.8360</td>\n",
       "      <td>0.5355</td>\n",
       "      <td>2.1981</td>\n",
       "      <td>1.222069</td>\n",
       "      <td>0.545700</td>\n",
       "      <td>1.445896</td>\n",
       "      <td>9</td>\n",
       "    </tr>\n",
       "    <tr>\n",
       "      <th>2</th>\n",
       "      <td>M</td>\n",
       "      <td>2.4990</td>\n",
       "      <td>2.0145</td>\n",
       "      <td>0.7140</td>\n",
       "      <td>2.7999</td>\n",
       "      <td>1.129650</td>\n",
       "      <td>0.650250</td>\n",
       "      <td>0.765000</td>\n",
       "      <td>11</td>\n",
       "    </tr>\n",
       "    <tr>\n",
       "      <th>3</th>\n",
       "      <td>M</td>\n",
       "      <td>3.2130</td>\n",
       "      <td>2.5245</td>\n",
       "      <td>0.8160</td>\n",
       "      <td>5.5743</td>\n",
       "      <td>2.534700</td>\n",
       "      <td>1.127100</td>\n",
       "      <td>1.606500</td>\n",
       "      <td>12</td>\n",
       "    </tr>\n",
       "    <tr>\n",
       "      <th>4</th>\n",
       "      <td>M</td>\n",
       "      <td>2.9325</td>\n",
       "      <td>2.2185</td>\n",
       "      <td>0.6885</td>\n",
       "      <td>5.0592</td>\n",
       "      <td>2.203200</td>\n",
       "      <td>1.254302</td>\n",
       "      <td>1.445896</td>\n",
       "      <td>10</td>\n",
       "    </tr>\n",
       "  </tbody>\n",
       "</table>\n",
       "</div>"
      ],
      "text/plain": [
       "   0       1       2       3       4         5         6         7   8\n",
       "0  M  3.1110  2.4990  0.8160  5.8446  3.044700  1.140839  1.992463   8\n",
       "1  M  2.3715  1.8360  0.5355  2.1981  1.222069  0.545700  1.445896   9\n",
       "2  M  2.4990  2.0145  0.7140  2.7999  1.129650  0.650250  0.765000  11\n",
       "3  M  3.2130  2.5245  0.8160  5.5743  2.534700  1.127100  1.606500  12\n",
       "4  M  2.9325  2.2185  0.6885  5.0592  2.203200  1.254302  1.445896  10"
      ]
     },
     "execution_count": 41,
     "metadata": {},
     "output_type": "execute_result"
    }
   ],
   "source": [
    "df = pd.concat([df_m, df_f, df_i])\n",
    "df.head()"
   ]
  }
 ],
 "metadata": {
  "kernelspec": {
   "display_name": "Python 3",
   "language": "python",
   "name": "python3"
  },
  "language_info": {
   "codemirror_mode": {
    "name": "ipython",
    "version": 3
   },
   "file_extension": ".py",
   "mimetype": "text/x-python",
   "name": "python",
   "nbconvert_exporter": "python",
   "pygments_lexer": "ipython3",
   "version": "3.7.2rc1"
  }
 },
 "nbformat": 4,
 "nbformat_minor": 2
}
